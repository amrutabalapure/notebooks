{
    "cells": [
        {
            "cell_type": "markdown",
            "metadata": {},
            "source": "### This is an example notebook"
        },
        {
            "cell_type": "code",
            "execution_count": 6,
            "metadata": {},
            "outputs": [
                {
                    "data": {
                        "text/html": "<div>\n<style scoped>\n    .dataframe tbody tr th:only-of-type {\n        vertical-align: middle;\n    }\n\n    .dataframe tbody tr th {\n        vertical-align: top;\n    }\n\n    .dataframe thead th {\n        text-align: right;\n    }\n</style>\n<table border=\"1\" class=\"dataframe\">\n  <thead>\n    <tr style=\"text-align: right;\">\n      <th></th>\n      <th>0</th>\n      <th>1</th>\n    </tr>\n  </thead>\n  <tbody>\n    <tr>\n      <th>0</th>\n      <td>IAV</td>\n      <td>BEG</td>\n    </tr>\n    <tr>\n      <th>1</th>\n      <td>THU</td>\n      <td>KIH</td>\n    </tr>\n    <tr>\n      <th>2</th>\n      <td>THO</td>\n      <td>CFR</td>\n    </tr>\n    <tr>\n      <th>3</th>\n      <td>QWE</td>\n      <td>YUD</td>\n    </tr>\n    <tr>\n      <th>4</th>\n      <td>YSA</td>\n      <td>OLK</td>\n    </tr>\n  </tbody>\n</table>\n</div>",
                        "text/plain": "     0    1\n0  IAV  BEG\n1  THU  KIH\n2  THO  CFR\n3  QWE  YUD\n4  YSA  OLK"
                    },
                    "execution_count": 6,
                    "metadata": {},
                    "output_type": "execute_result"
                }
            ],
            "source": "# The code was removed by Watson Studio for sharing."
        },
        {
            "cell_type": "code",
            "execution_count": null,
            "metadata": {},
            "outputs": [],
            "source": ""
        }
    ],
    "metadata": {
        "kernelspec": {
            "display_name": "Python 3.6",
            "language": "python",
            "name": "python3"
        },
        "language_info": {
            "codemirror_mode": {
                "name": "ipython",
                "version": 3
            },
            "file_extension": ".py",
            "mimetype": "text/x-python",
            "name": "python",
            "nbconvert_exporter": "python",
            "pygments_lexer": "ipython3",
            "version": "3.6.9"
        }
    },
    "nbformat": 4,
    "nbformat_minor": 1
}